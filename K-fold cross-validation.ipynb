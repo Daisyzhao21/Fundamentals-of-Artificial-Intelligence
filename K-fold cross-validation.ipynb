{
 "cells": [
  {
   "cell_type": "markdown",
   "id": "63815354",
   "metadata": {},
   "source": [
    "### K-fold Cross-Validation\n",
    "Mod5 \n",
    "Danxuan Zhao\n",
    "Feb 9, 2024"
   ]
  },
  {
   "cell_type": "code",
   "execution_count": 75,
   "id": "ab291888",
   "metadata": {},
   "outputs": [],
   "source": [
    "# import the required libraries:\n",
    "from scipy.stats import sem\n",
    "from numpy import mean\n",
    "from numpy import std\n",
    "from sklearn.datasets import make_classification\n",
    "from sklearn.model_selection import RepeatedKFold\n",
    "from sklearn.model_selection import cross_val_score\n",
    "from sklearn.linear_model import LogisticRegression\n",
    "from matplotlib import pyplot\n",
    "from sklearn.model_selection import KFold"
   ]
  },
  {
   "cell_type": "code",
   "execution_count": 69,
   "id": "6ac32fc2",
   "metadata": {},
   "outputs": [],
   "source": [
    "# create dataset\n",
    "X, y = make_classification(n_samples=1000, n_features=20, n_informative=15, n_redundant=5, random_state=1)"
   ]
  },
  {
   "cell_type": "code",
   "execution_count": 77,
   "id": "5c4bc18b",
   "metadata": {},
   "outputs": [],
   "source": [
    "# prepare the cross-validation procedure\n",
    "cv = KFold(n_splits=10, random_state=1, shuffle=True)"
   ]
  },
  {
   "cell_type": "code",
   "execution_count": 78,
   "id": "3a814a06",
   "metadata": {},
   "outputs": [
    {
     "name": "stdout",
     "output_type": "stream",
     "text": [
      "(1000, 20) (1000,)\n"
     ]
    }
   ],
   "source": [
    "# summarize the dataset\n",
    "print(X.shape, y.shape)"
   ]
  },
  {
   "cell_type": "code",
   "execution_count": 79,
   "id": "8b0aac2d",
   "metadata": {},
   "outputs": [
    {
     "name": "stdout",
     "output_type": "stream",
     "text": [
      "Accuracy: 0.868 (0.032)\n"
     ]
    }
   ],
   "source": [
    "# evaluate model\n",
    "scores = cross_val_score(model, X, y, scoring='accuracy', cv=cv, n_jobs=-1)\n",
    "# report performance\n",
    "print('Accuracy: %.3f (%.3f)' % (mean(scores), std(scores)))"
   ]
  },
  {
   "cell_type": "code",
   "execution_count": 80,
   "id": "085c602b",
   "metadata": {},
   "outputs": [],
   "source": [
    "# prepare the cross-validation procedure\n",
    "cv = RepeatedKFold(n_splits=10, n_repeats=3, random_state=1)\n",
    "# create dataset\n",
    "X, y = make_classification(n_samples=1000, n_features=20, n_informative=15, n_redundant=5, random_state=1)"
   ]
  },
  {
   "cell_type": "code",
   "execution_count": 81,
   "id": "15d45757",
   "metadata": {},
   "outputs": [
    {
     "name": "stdout",
     "output_type": "stream",
     "text": [
      "Accuracy: 0.867 (0.031)\n"
     ]
    }
   ],
   "source": [
    "# prepare the cross-validation procedure\n",
    "cv = RepeatedKFold(n_splits=10, n_repeats=3, random_state=1)\n",
    "# create model\n",
    "model = LogisticRegression()\n",
    "# evaluate model\n",
    "scores = cross_val_score(model, X, y, scoring='accuracy', cv=cv, n_jobs=-1)\n",
    "# report performance\n",
    "print('Accuracy: %.3f (%.3f)' % (mean(scores), std(scores)))"
   ]
  },
  {
   "cell_type": "code",
   "execution_count": 82,
   "id": "ee7818bc",
   "metadata": {},
   "outputs": [
    {
     "name": "stdout",
     "output_type": "stream",
     "text": [
      ">1 mean=0.8680 se=0.011\n",
      ">2 mean=0.8675 se=0.008\n",
      ">3 mean=0.8673 se=0.006\n",
      ">4 mean=0.8670 se=0.006\n",
      ">5 mean=0.8658 se=0.005\n",
      ">6 mean=0.8655 se=0.004\n",
      ">7 mean=0.8651 se=0.004\n",
      ">8 mean=0.8651 se=0.004\n",
      ">9 mean=0.8656 se=0.003\n",
      ">10 mean=0.8658 se=0.003\n",
      ">11 mean=0.8655 se=0.003\n",
      ">12 mean=0.8654 se=0.003\n",
      ">13 mean=0.8652 se=0.003\n",
      ">14 mean=0.8651 se=0.003\n",
      ">15 mean=0.8653 se=0.003\n"
     ]
    },
    {
     "data": {
      "image/png": "[encoded data removed]",
      "text/plain": [
       "<Figure size 640x480 with 1 Axes>"
      ]
     },
     "metadata": {},
     "output_type": "display_data"
    }
   ],
   "source": [
    "# evaluate a model with a given number of repeats\n",
    "def evaluate_model(X, y, repeats):\n",
    " # prepare the cross-validation procedure\n",
    " cv = RepeatedKFold(n_splits=10, n_repeats=repeats, random_state=1)\n",
    " # create model\n",
    " model = LogisticRegression()\n",
    " # evaluate model\n",
    " scores = cross_val_score(model, X, y, scoring='accuracy', cv=cv, n_jobs=-1)\n",
    " return scores\n",
    " \n",
    "# create dataset\n",
    "X, y = make_classification(n_samples=1000, n_features=20, n_informative=15, n_redundant=5, random_state=1)\n",
    "# configurations to test\n",
    "repeats = range(1,16)\n",
    "results = list()\n",
    "for r in repeats:\n",
    " # evaluate using a given number of repeats\n",
    " scores = evaluate_model(X, y, r)\n",
    "    # summarize\n",
    " print('>%d mean=%.4f se=%.3f' % (r, mean(scores), sem(scores)))\n",
    " # store\n",
    " results.append(scores)\n",
    "# plot the results\n",
    "pyplot.boxplot(results, labels=[str(r) for r in repeats], showmeans=True)\n",
    "pyplot.show()"
   ]
  },
  {
   "cell_type": "code",
   "execution_count": null,
   "id": "288b9f1d",
   "metadata": {},
   "outputs": [],
   "source": []
  }
 ],
 "metadata": {
  "kernelspec": {
   "display_name": "Python 3 (ipykernel)",
   "language": "python",
   "name": "python3"
  },
  "language_info": {
   "codemirror_mode": {
    "name": "ipython",
    "version": 3
   },
   "file_extension": ".py",
   "mimetype": "text/x-python",
   "name": "python",
   "nbconvert_exporter": "python",
   "pygments_lexer": "ipython3",
   "version": "3.9.13"
  }
 },
 "nbformat": 4,
 "nbformat_minor": 5
}
